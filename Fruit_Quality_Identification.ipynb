{
  "cells": [
    {
      "cell_type": "markdown",
      "metadata": {
        "id": "EjP4AbsDDr-j"
      },
      "source": [
        "# **Dataset loading**"
      ]
    },
    {
      "cell_type": "code",
      "execution_count": null,
      "metadata": {
        "collapsed": true,
        "id": "JZjWhDlv-C8t"
      },
      "outputs": [],
      "source": [
        "from google.colab import files\n",
        "files.upload()"
      ]
    },
    {
      "cell_type": "code",
      "execution_count": null,
      "metadata": {
        "id": "PDqJeHDvBljM"
      },
      "outputs": [],
      "source": [
        "!mkdir -p ~/.kaggle\n",
        "!mv kaggle.json ~/.kaggle/\n",
        "!chmod 600 ~/.kaggle/kaggle.json"
      ]
    },
    {
      "cell_type": "code",
      "execution_count": null,
      "metadata": {
        "colab": {
          "base_uri": "https://localhost:8080/"
        },
        "id": "Bu8_Hyj7BsPs",
        "outputId": "639765f9-edb0-44be-c11a-0bd252471cc2"
      },
      "outputs": [
        {
          "output_type": "stream",
          "name": "stdout",
          "text": [
            "Dataset URL: https://www.kaggle.com/datasets/ryandpark/fruit-quality-classification\n",
            "License(s): CC0-1.0\n"
          ]
        }
      ],
      "source": [
        "!kaggle datasets download -d ryandpark/fruit-quality-classification"
      ]
    },
    {
      "cell_type": "code",
      "source": [
        "import zipfile\n",
        "import os\n",
        "import shutil\n",
        "from sklearn.model_selection import train_test_split"
      ],
      "metadata": {
        "id": "dKKuHVtGrNFa"
      },
      "execution_count": null,
      "outputs": []
    },
    {
      "cell_type": "code",
      "execution_count": null,
      "metadata": {
        "colab": {
          "base_uri": "https://localhost:8080/"
        },
        "id": "jMWQUvwSBt9j",
        "outputId": "4345eedc-f607-45c8-87ab-7d144d29c519"
      },
      "outputs": [
        {
          "output_type": "execute_result",
          "data": {
            "text/plain": [
              "['Bad Quality_Fruits', 'Good Quality_Fruits', 'Mixed Qualit_Fruits']"
            ]
          },
          "metadata": {},
          "execution_count": 5
        }
      ],
      "source": [
        "dataset_path = \"fruit-quality-classification.zip\"  # Ensure this matches the downloaded filename\n",
        "extract_path = \"fruit_quality_data\"  # Folder to extract to\n",
        "\n",
        "with zipfile.ZipFile(dataset_path, 'r') as zip_ref:\n",
        "    zip_ref.extractall(extract_path)\n",
        "\n",
        "# List extracted files\n",
        "os.listdir(extract_path)"
      ]
    },
    {
      "cell_type": "code",
      "execution_count": null,
      "metadata": {
        "colab": {
          "base_uri": "https://localhost:8080/"
        },
        "id": "LcOQyb9x0U6c",
        "outputId": "5c146393-0570-4d9e-8496-8ff56801eedf"
      },
      "outputs": [
        {
          "output_type": "stream",
          "name": "stdout",
          "text": [
            "Number of images in 'fruit_quality_data/Bad Quality_Fruits/Apple_Bad': 1141\n",
            "Number of images in 'fruit_quality_data/Bad Quality_Fruits/Banana_Bad': 1087\n",
            "Number of images in 'fruit_quality_data/Bad Quality_Fruits/Guava_Bad': 1129\n",
            "Number of images in 'fruit_quality_data/Bad Quality_Fruits/Lime_Bad': 1085\n",
            "Number of images in 'fruit_quality_data/Bad Quality_Fruits/Orange_Bad': 1159\n",
            "Number of images in 'fruit_quality_data/Bad Quality_Fruits/Pomegranate_Bad': 1187\n",
            "Number of images in 'fruit_quality_data/Good Quality_Fruits/Apple_Good': 1149\n",
            "Number of images in 'fruit_quality_data/Good Quality_Fruits/Banana_Good': 1113\n",
            "Number of images in 'fruit_quality_data/Good Quality_Fruits/Guava_Good': 1152\n",
            "Number of images in 'fruit_quality_data/Good Quality_Fruits/Lime_Good': 1094\n",
            "Number of images in 'fruit_quality_data/Good Quality_Fruits/Orange_Good': 1216\n",
            "Number of images in 'fruit_quality_data/Good Quality_Fruits/Pomegranate_Good': 5940\n",
            "Number of images in 'fruit_quality_data/Mixed Qualit_Fruits/Apple': 113\n",
            "Number of images in 'fruit_quality_data/Mixed Qualit_Fruits/Banana': 285\n",
            "Number of images in 'fruit_quality_data/Mixed Qualit_Fruits/Guava': 148\n",
            "Number of images in 'fruit_quality_data/Mixed Qualit_Fruits/Lemon': 278\n",
            "Number of images in 'fruit_quality_data/Mixed Qualit_Fruits/Orange': 125\n",
            "Number of images in 'fruit_quality_data/Mixed Qualit_Fruits/Pomegranate': 125\n",
            "19526\n"
          ]
        }
      ],
      "source": [
        "directories = [\n",
        "    \"fruit_quality_data/Bad Quality_Fruits/Apple_Bad\",\n",
        "    \"fruit_quality_data/Bad Quality_Fruits/Banana_Bad\",\n",
        "    \"fruit_quality_data/Bad Quality_Fruits/Guava_Bad\",\n",
        "    \"fruit_quality_data/Bad Quality_Fruits/Lime_Bad\",\n",
        "    \"fruit_quality_data/Bad Quality_Fruits/Orange_Bad\",\n",
        "    \"fruit_quality_data/Bad Quality_Fruits/Pomegranate_Bad\",\n",
        "    \"fruit_quality_data/Good Quality_Fruits/Apple_Good\",\n",
        "    \"fruit_quality_data/Good Quality_Fruits/Banana_Good\",\n",
        "    \"fruit_quality_data/Good Quality_Fruits/Guava_Good\",\n",
        "    \"fruit_quality_data/Good Quality_Fruits/Lime_Good\",\n",
        "    \"fruit_quality_data/Good Quality_Fruits/Orange_Good\",\n",
        "    \"fruit_quality_data/Good Quality_Fruits/Pomegranate_Good\",\n",
        "    \"fruit_quality_data/Mixed Qualit_Fruits/Apple\",\n",
        "    \"fruit_quality_data/Mixed Qualit_Fruits/Banana\",\n",
        "    \"fruit_quality_data/Mixed Qualit_Fruits/Guava\",\n",
        "    \"fruit_quality_data/Mixed Qualit_Fruits/Lemon\",\n",
        "    \"fruit_quality_data/Mixed Qualit_Fruits/Orange\",\n",
        "    \"fruit_quality_data/Mixed Qualit_Fruits/Pomegranate\",\n",
        "]\n",
        "\n",
        "# Count and print the number of images in each directory\n",
        "total=0\n",
        "for directory in directories:\n",
        "    if os.path.exists(directory):\n",
        "        num_images = len([f for f in os.listdir(directory) if os.path.isfile(os.path.join(directory, f))])\n",
        "        print(f\"Number of images in '{directory}': {num_images}\")\n",
        "        total+=num_images\n",
        "    else:\n",
        "        print(f\"Directory '{directory}' does not exist.\")\n",
        "print(total)"
      ]
    },
    {
      "cell_type": "markdown",
      "metadata": {
        "id": "ePMQbMEpnAx6"
      },
      "source": [
        "# **Dataset Preparation**"
      ]
    },
    {
      "cell_type": "markdown",
      "metadata": {
        "id": "GMXrNlSOnElH"
      },
      "source": [
        "split the dataset only into bad good and mixed with all fruits"
      ]
    },
    {
      "cell_type": "code",
      "execution_count": null,
      "metadata": {
        "id": "5dMtOwC0iU7M"
      },
      "outputs": [],
      "source": [
        "original_dataset_dir = \"fruit_quality_data\"\n",
        "dataset_dir = \"dataset\"\n",
        "categories = [\"Bad Quality_Fruits\", \"Good Quality_Fruits\", \"Mixed Qualit_Fruits\"]\n",
        "\n",
        "train_ratio, val_ratio = 0.7, 0.2\n",
        "\n",
        "for category in categories:\n",
        "    category_path = os.path.join(original_dataset_dir, category)\n",
        "    images = []  # Store all images of this category\n",
        "\n",
        "    # Collect images and print counts per subfolder\n",
        "    for fruit_type in os.listdir(category_path):\n",
        "        fruit_path = os.path.join(category_path, fruit_type)\n",
        "        if os.path.isdir(fruit_path):\n",
        "            fruit_images = [os.path.join(fruit_path, img) for img in os.listdir(fruit_path)]\n",
        "            images.extend(fruit_images)\n",
        "\n",
        "    # Split dataset\n",
        "    train_images, temp_images = train_test_split(images, train_size=train_ratio, random_state=42)\n",
        "    val_images, test_images = train_test_split(temp_images, test_size=0.5, random_state=42)\n",
        "\n",
        "    # Function to copy files safely\n",
        "    def move_images(image_list, destination):\n",
        "        os.makedirs(destination, exist_ok=True)\n",
        "        for img_path in image_list:\n",
        "            if os.path.exists(img_path):\n",
        "                # Rename while copying to avoid overwriting\n",
        "                new_filename = os.path.basename(os.path.dirname(img_path)) + \"_\" + os.path.basename(img_path)\n",
        "                shutil.copy(img_path, os.path.join(destination, new_filename))\n",
        "\n",
        "    # Move images\n",
        "    move_images(train_images, os.path.join(dataset_dir, \"train\", category))\n",
        "    move_images(val_images, os.path.join(dataset_dir, \"val\", category))\n",
        "    move_images(test_images, os.path.join(dataset_dir, \"test\", category))"
      ]
    },
    {
      "cell_type": "code",
      "execution_count": null,
      "metadata": {
        "colab": {
          "base_uri": "https://localhost:8080/"
        },
        "id": "pfN_Ous3ifc-",
        "outputId": "6d50886a-3882-4146-841b-4237e490c526"
      },
      "outputs": [
        {
          "output_type": "stream",
          "name": "stdout",
          "text": [
            "Number of images in 'dataset/train/Bad Quality_Fruits': 4751\n",
            "Number of images in 'dataset/train/Good Quality_Fruits': 8164\n",
            "Number of images in 'dataset/train/Mixed Qualit_Fruits': 751\n",
            "Number of images in 'dataset/test/Bad Quality_Fruits': 1019\n",
            "Number of images in 'dataset/test/Good Quality_Fruits': 1750\n",
            "Number of images in 'dataset/test/Mixed Qualit_Fruits': 162\n",
            "Number of images in 'dataset/val/Bad Quality_Fruits': 1018\n",
            "Number of images in 'dataset/val/Good Quality_Fruits': 1750\n",
            "Number of images in 'dataset/val/Mixed Qualit_Fruits': 161\n",
            "19526\n"
          ]
        }
      ],
      "source": [
        "directories = [\n",
        "    \"dataset/train/Bad Quality_Fruits\",\n",
        "    \"dataset/train/Good Quality_Fruits\",\n",
        "    \"dataset/train/Mixed Qualit_Fruits\",\n",
        "    \"dataset/test/Bad Quality_Fruits\",\n",
        "    \"dataset/test/Good Quality_Fruits\",\n",
        "    \"dataset/test/Mixed Qualit_Fruits\",\n",
        "    \"dataset/val/Bad Quality_Fruits\",\n",
        "    \"dataset/val/Good Quality_Fruits\",\n",
        "    \"dataset/val/Mixed Qualit_Fruits\"\n",
        "]\n",
        "total=0\n",
        "for directory in directories:\n",
        "    if os.path.exists(directory):\n",
        "        num_images = len([f for f in os.listdir(directory) if os.path.isfile(os.path.join(directory, f))])\n",
        "        print(f\"Number of images in '{directory}': {num_images}\")\n",
        "        total+=num_images\n",
        "    else:\n",
        "        print(f\"Directory '{directory}' does not exist.\")\n",
        "print(total)"
      ]
    },
    {
      "cell_type": "markdown",
      "metadata": {
        "id": "EWcCMZhKWdiq"
      },
      "source": [
        "# **Data Preparation**"
      ]
    },
    {
      "cell_type": "code",
      "execution_count": null,
      "metadata": {
        "id": "uvii8NzwWgPk"
      },
      "outputs": [],
      "source": [
        "import os\n",
        "import numpy as np\n",
        "import tensorflow as tf\n",
        "from tensorflow import keras\n",
        "from tensorflow.keras.preprocessing.image import ImageDataGenerator\n",
        "from tensorflow.keras.models import Sequential\n",
        "from tensorflow.keras.layers import Conv2D, MaxPooling2D, Flatten, Dense, Dropout, BatchNormalization\n",
        "from tensorflow.keras.optimizers import Adam\n",
        "from tensorflow.keras.preprocessing import image\n",
        "import matplotlib.pyplot as plt\n",
        "import seaborn as sns\n",
        "from sklearn.metrics import confusion_matrix, classification_report\n",
        "import random"
      ]
    },
    {
      "cell_type": "code",
      "execution_count": null,
      "metadata": {
        "id": "em7Mes6XYClx",
        "colab": {
          "base_uri": "https://localhost:8080/"
        },
        "outputId": "08fc7761-0a84-427f-b4ba-bcea60f6b8c8"
      },
      "outputs": [
        {
          "output_type": "stream",
          "name": "stdout",
          "text": [
            "Found 13666 images belonging to 3 classes.\n",
            "Found 2929 images belonging to 3 classes.\n",
            "Found 2931 images belonging to 3 classes.\n",
            "Class Labels: ['Bad Quality_Fruits', 'Good Quality_Fruits', 'Mixed Qualit_Fruits']\n"
          ]
        }
      ],
      "source": [
        "base_dir = \"dataset\"\n",
        "\n",
        "train_dir=os.path.join(base_dir,'train')\n",
        "val_dir=os.path.join(base_dir,'val')\n",
        "test_dir=os.path.join(base_dir,'test')\n",
        "\n",
        "IMG_HEIGHT=256\n",
        "IMG_WIDTH=256\n",
        "BATCH_SIZE=32\n",
        "\n",
        "train_datagen = ImageDataGenerator(\n",
        "    rescale=1./255,\n",
        "    # rotation_range=30,\n",
        "    # width_shift_range=0.3,\n",
        "    # height_shift_range=0.3,\n",
        "    # shear_range=0.3,\n",
        "    # zoom_range=0.3,\n",
        "    # horizontal_flip=True,\n",
        "    # brightness_range=[0.8, 1.2],\n",
        "    # fill_mode='nearest'\n",
        ")\n",
        "\n",
        "val_datagen=ImageDataGenerator(rescale=1./256)\n",
        "test_datagen=ImageDataGenerator(rescale=1./256)\n",
        "\n",
        "train_generator=train_datagen.flow_from_directory(\n",
        "    train_dir,\n",
        "    target_size=(IMG_HEIGHT,IMG_WIDTH),\n",
        "    batch_size=BATCH_SIZE,\n",
        "    class_mode='categorical'\n",
        ")\n",
        "val_generator=val_datagen.flow_from_directory(\n",
        "    val_dir,\n",
        "    target_size=(IMG_HEIGHT,IMG_WIDTH),\n",
        "    batch_size=BATCH_SIZE,\n",
        "    class_mode='categorical'\n",
        ")\n",
        "test_generator=test_datagen.flow_from_directory(\n",
        "    test_dir,\n",
        "    target_size=(IMG_HEIGHT,IMG_WIDTH),\n",
        "    batch_size=BATCH_SIZE,\n",
        "    class_mode='categorical'\n",
        ")\n",
        "\n",
        "class_labels = list(train_generator.class_indices.keys())\n",
        "print(f\"Class Labels: {class_labels}\")"
      ]
    },
    {
      "cell_type": "markdown",
      "metadata": {
        "id": "xZX4MulMcHRo"
      },
      "source": [
        "# **CNN Model**"
      ]
    },
    {
      "cell_type": "code",
      "execution_count": null,
      "metadata": {
        "id": "2fpUcEqycLQm",
        "colab": {
          "base_uri": "https://localhost:8080/",
          "height": 947
        },
        "outputId": "649e5fbb-3892-44f4-cbbe-d23b5f2114ee"
      },
      "outputs": [
        {
          "output_type": "stream",
          "name": "stderr",
          "text": [
            "/usr/local/lib/python3.11/dist-packages/keras/src/layers/convolutional/base_conv.py:107: UserWarning: Do not pass an `input_shape`/`input_dim` argument to a layer. When using Sequential models, prefer using an `Input(shape)` object as the first layer in the model instead.\n",
            "  super().__init__(activity_regularizer=activity_regularizer, **kwargs)\n"
          ]
        },
        {
          "output_type": "display_data",
          "data": {
            "text/plain": [
              "\u001b[1mModel: \"sequential_1\"\u001b[0m\n"
            ],
            "text/html": [
              "<pre style=\"white-space:pre;overflow-x:auto;line-height:normal;font-family:Menlo,'DejaVu Sans Mono',consolas,'Courier New',monospace\"><span style=\"font-weight: bold\">Model: \"sequential_1\"</span>\n",
              "</pre>\n"
            ]
          },
          "metadata": {}
        },
        {
          "output_type": "display_data",
          "data": {
            "text/plain": [
              "┏━━━━━━━━━━━━━━━━━━━━━━━━━━━━━━━━━━━━━━┳━━━━━━━━━━━━━━━━━━━━━━━━━━━━━┳━━━━━━━━━━━━━━━━━┓\n",
              "┃\u001b[1m \u001b[0m\u001b[1mLayer (type)                        \u001b[0m\u001b[1m \u001b[0m┃\u001b[1m \u001b[0m\u001b[1mOutput Shape               \u001b[0m\u001b[1m \u001b[0m┃\u001b[1m \u001b[0m\u001b[1m        Param #\u001b[0m\u001b[1m \u001b[0m┃\n",
              "┡━━━━━━━━━━━━━━━━━━━━━━━━━━━━━━━━━━━━━━╇━━━━━━━━━━━━━━━━━━━━━━━━━━━━━╇━━━━━━━━━━━━━━━━━┩\n",
              "│ conv2d_4 (\u001b[38;5;33mConv2D\u001b[0m)                    │ (\u001b[38;5;45mNone\u001b[0m, \u001b[38;5;34m254\u001b[0m, \u001b[38;5;34m254\u001b[0m, \u001b[38;5;34m32\u001b[0m)        │             \u001b[38;5;34m896\u001b[0m │\n",
              "├──────────────────────────────────────┼─────────────────────────────┼─────────────────┤\n",
              "│ batch_normalization_6                │ (\u001b[38;5;45mNone\u001b[0m, \u001b[38;5;34m254\u001b[0m, \u001b[38;5;34m254\u001b[0m, \u001b[38;5;34m32\u001b[0m)        │             \u001b[38;5;34m128\u001b[0m │\n",
              "│ (\u001b[38;5;33mBatchNormalization\u001b[0m)                 │                             │                 │\n",
              "├──────────────────────────────────────┼─────────────────────────────┼─────────────────┤\n",
              "│ max_pooling2d_4 (\u001b[38;5;33mMaxPooling2D\u001b[0m)       │ (\u001b[38;5;45mNone\u001b[0m, \u001b[38;5;34m127\u001b[0m, \u001b[38;5;34m127\u001b[0m, \u001b[38;5;34m32\u001b[0m)        │               \u001b[38;5;34m0\u001b[0m │\n",
              "├──────────────────────────────────────┼─────────────────────────────┼─────────────────┤\n",
              "│ conv2d_5 (\u001b[38;5;33mConv2D\u001b[0m)                    │ (\u001b[38;5;45mNone\u001b[0m, \u001b[38;5;34m125\u001b[0m, \u001b[38;5;34m125\u001b[0m, \u001b[38;5;34m64\u001b[0m)        │          \u001b[38;5;34m18,496\u001b[0m │\n",
              "├──────────────────────────────────────┼─────────────────────────────┼─────────────────┤\n",
              "│ batch_normalization_7                │ (\u001b[38;5;45mNone\u001b[0m, \u001b[38;5;34m125\u001b[0m, \u001b[38;5;34m125\u001b[0m, \u001b[38;5;34m64\u001b[0m)        │             \u001b[38;5;34m256\u001b[0m │\n",
              "│ (\u001b[38;5;33mBatchNormalization\u001b[0m)                 │                             │                 │\n",
              "├──────────────────────────────────────┼─────────────────────────────┼─────────────────┤\n",
              "│ max_pooling2d_5 (\u001b[38;5;33mMaxPooling2D\u001b[0m)       │ (\u001b[38;5;45mNone\u001b[0m, \u001b[38;5;34m62\u001b[0m, \u001b[38;5;34m62\u001b[0m, \u001b[38;5;34m64\u001b[0m)          │               \u001b[38;5;34m0\u001b[0m │\n",
              "├──────────────────────────────────────┼─────────────────────────────┼─────────────────┤\n",
              "│ conv2d_6 (\u001b[38;5;33mConv2D\u001b[0m)                    │ (\u001b[38;5;45mNone\u001b[0m, \u001b[38;5;34m60\u001b[0m, \u001b[38;5;34m60\u001b[0m, \u001b[38;5;34m128\u001b[0m)         │          \u001b[38;5;34m73,856\u001b[0m │\n",
              "├──────────────────────────────────────┼─────────────────────────────┼─────────────────┤\n",
              "│ batch_normalization_8                │ (\u001b[38;5;45mNone\u001b[0m, \u001b[38;5;34m60\u001b[0m, \u001b[38;5;34m60\u001b[0m, \u001b[38;5;34m128\u001b[0m)         │             \u001b[38;5;34m512\u001b[0m │\n",
              "│ (\u001b[38;5;33mBatchNormalization\u001b[0m)                 │                             │                 │\n",
              "├──────────────────────────────────────┼─────────────────────────────┼─────────────────┤\n",
              "│ max_pooling2d_6 (\u001b[38;5;33mMaxPooling2D\u001b[0m)       │ (\u001b[38;5;45mNone\u001b[0m, \u001b[38;5;34m30\u001b[0m, \u001b[38;5;34m30\u001b[0m, \u001b[38;5;34m128\u001b[0m)         │               \u001b[38;5;34m0\u001b[0m │\n",
              "├──────────────────────────────────────┼─────────────────────────────┼─────────────────┤\n",
              "│ conv2d_7 (\u001b[38;5;33mConv2D\u001b[0m)                    │ (\u001b[38;5;45mNone\u001b[0m, \u001b[38;5;34m28\u001b[0m, \u001b[38;5;34m28\u001b[0m, \u001b[38;5;34m256\u001b[0m)         │         \u001b[38;5;34m295,168\u001b[0m │\n",
              "├──────────────────────────────────────┼─────────────────────────────┼─────────────────┤\n",
              "│ batch_normalization_9                │ (\u001b[38;5;45mNone\u001b[0m, \u001b[38;5;34m28\u001b[0m, \u001b[38;5;34m28\u001b[0m, \u001b[38;5;34m256\u001b[0m)         │           \u001b[38;5;34m1,024\u001b[0m │\n",
              "│ (\u001b[38;5;33mBatchNormalization\u001b[0m)                 │                             │                 │\n",
              "├──────────────────────────────────────┼─────────────────────────────┼─────────────────┤\n",
              "│ max_pooling2d_7 (\u001b[38;5;33mMaxPooling2D\u001b[0m)       │ (\u001b[38;5;45mNone\u001b[0m, \u001b[38;5;34m14\u001b[0m, \u001b[38;5;34m14\u001b[0m, \u001b[38;5;34m256\u001b[0m)         │               \u001b[38;5;34m0\u001b[0m │\n",
              "├──────────────────────────────────────┼─────────────────────────────┼─────────────────┤\n",
              "│ flatten_1 (\u001b[38;5;33mFlatten\u001b[0m)                  │ (\u001b[38;5;45mNone\u001b[0m, \u001b[38;5;34m50176\u001b[0m)               │               \u001b[38;5;34m0\u001b[0m │\n",
              "├──────────────────────────────────────┼─────────────────────────────┼─────────────────┤\n",
              "│ dense_3 (\u001b[38;5;33mDense\u001b[0m)                      │ (\u001b[38;5;45mNone\u001b[0m, \u001b[38;5;34m256\u001b[0m)                 │      \u001b[38;5;34m12,845,312\u001b[0m │\n",
              "├──────────────────────────────────────┼─────────────────────────────┼─────────────────┤\n",
              "│ batch_normalization_10               │ (\u001b[38;5;45mNone\u001b[0m, \u001b[38;5;34m256\u001b[0m)                 │           \u001b[38;5;34m1,024\u001b[0m │\n",
              "│ (\u001b[38;5;33mBatchNormalization\u001b[0m)                 │                             │                 │\n",
              "├──────────────────────────────────────┼─────────────────────────────┼─────────────────┤\n",
              "│ dropout_2 (\u001b[38;5;33mDropout\u001b[0m)                  │ (\u001b[38;5;45mNone\u001b[0m, \u001b[38;5;34m256\u001b[0m)                 │               \u001b[38;5;34m0\u001b[0m │\n",
              "├──────────────────────────────────────┼─────────────────────────────┼─────────────────┤\n",
              "│ dense_4 (\u001b[38;5;33mDense\u001b[0m)                      │ (\u001b[38;5;45mNone\u001b[0m, \u001b[38;5;34m128\u001b[0m)                 │          \u001b[38;5;34m32,896\u001b[0m │\n",
              "├──────────────────────────────────────┼─────────────────────────────┼─────────────────┤\n",
              "│ batch_normalization_11               │ (\u001b[38;5;45mNone\u001b[0m, \u001b[38;5;34m128\u001b[0m)                 │             \u001b[38;5;34m512\u001b[0m │\n",
              "│ (\u001b[38;5;33mBatchNormalization\u001b[0m)                 │                             │                 │\n",
              "├──────────────────────────────────────┼─────────────────────────────┼─────────────────┤\n",
              "│ dropout_3 (\u001b[38;5;33mDropout\u001b[0m)                  │ (\u001b[38;5;45mNone\u001b[0m, \u001b[38;5;34m128\u001b[0m)                 │               \u001b[38;5;34m0\u001b[0m │\n",
              "├──────────────────────────────────────┼─────────────────────────────┼─────────────────┤\n",
              "│ dense_5 (\u001b[38;5;33mDense\u001b[0m)                      │ (\u001b[38;5;45mNone\u001b[0m, \u001b[38;5;34m3\u001b[0m)                   │             \u001b[38;5;34m387\u001b[0m │\n",
              "└──────────────────────────────────────┴─────────────────────────────┴─────────────────┘\n"
            ],
            "text/html": [
              "<pre style=\"white-space:pre;overflow-x:auto;line-height:normal;font-family:Menlo,'DejaVu Sans Mono',consolas,'Courier New',monospace\">┏━━━━━━━━━━━━━━━━━━━━━━━━━━━━━━━━━━━━━━┳━━━━━━━━━━━━━━━━━━━━━━━━━━━━━┳━━━━━━━━━━━━━━━━━┓\n",
              "┃<span style=\"font-weight: bold\"> Layer (type)                         </span>┃<span style=\"font-weight: bold\"> Output Shape                </span>┃<span style=\"font-weight: bold\">         Param # </span>┃\n",
              "┡━━━━━━━━━━━━━━━━━━━━━━━━━━━━━━━━━━━━━━╇━━━━━━━━━━━━━━━━━━━━━━━━━━━━━╇━━━━━━━━━━━━━━━━━┩\n",
              "│ conv2d_4 (<span style=\"color: #0087ff; text-decoration-color: #0087ff\">Conv2D</span>)                    │ (<span style=\"color: #00d7ff; text-decoration-color: #00d7ff\">None</span>, <span style=\"color: #00af00; text-decoration-color: #00af00\">254</span>, <span style=\"color: #00af00; text-decoration-color: #00af00\">254</span>, <span style=\"color: #00af00; text-decoration-color: #00af00\">32</span>)        │             <span style=\"color: #00af00; text-decoration-color: #00af00\">896</span> │\n",
              "├──────────────────────────────────────┼─────────────────────────────┼─────────────────┤\n",
              "│ batch_normalization_6                │ (<span style=\"color: #00d7ff; text-decoration-color: #00d7ff\">None</span>, <span style=\"color: #00af00; text-decoration-color: #00af00\">254</span>, <span style=\"color: #00af00; text-decoration-color: #00af00\">254</span>, <span style=\"color: #00af00; text-decoration-color: #00af00\">32</span>)        │             <span style=\"color: #00af00; text-decoration-color: #00af00\">128</span> │\n",
              "│ (<span style=\"color: #0087ff; text-decoration-color: #0087ff\">BatchNormalization</span>)                 │                             │                 │\n",
              "├──────────────────────────────────────┼─────────────────────────────┼─────────────────┤\n",
              "│ max_pooling2d_4 (<span style=\"color: #0087ff; text-decoration-color: #0087ff\">MaxPooling2D</span>)       │ (<span style=\"color: #00d7ff; text-decoration-color: #00d7ff\">None</span>, <span style=\"color: #00af00; text-decoration-color: #00af00\">127</span>, <span style=\"color: #00af00; text-decoration-color: #00af00\">127</span>, <span style=\"color: #00af00; text-decoration-color: #00af00\">32</span>)        │               <span style=\"color: #00af00; text-decoration-color: #00af00\">0</span> │\n",
              "├──────────────────────────────────────┼─────────────────────────────┼─────────────────┤\n",
              "│ conv2d_5 (<span style=\"color: #0087ff; text-decoration-color: #0087ff\">Conv2D</span>)                    │ (<span style=\"color: #00d7ff; text-decoration-color: #00d7ff\">None</span>, <span style=\"color: #00af00; text-decoration-color: #00af00\">125</span>, <span style=\"color: #00af00; text-decoration-color: #00af00\">125</span>, <span style=\"color: #00af00; text-decoration-color: #00af00\">64</span>)        │          <span style=\"color: #00af00; text-decoration-color: #00af00\">18,496</span> │\n",
              "├──────────────────────────────────────┼─────────────────────────────┼─────────────────┤\n",
              "│ batch_normalization_7                │ (<span style=\"color: #00d7ff; text-decoration-color: #00d7ff\">None</span>, <span style=\"color: #00af00; text-decoration-color: #00af00\">125</span>, <span style=\"color: #00af00; text-decoration-color: #00af00\">125</span>, <span style=\"color: #00af00; text-decoration-color: #00af00\">64</span>)        │             <span style=\"color: #00af00; text-decoration-color: #00af00\">256</span> │\n",
              "│ (<span style=\"color: #0087ff; text-decoration-color: #0087ff\">BatchNormalization</span>)                 │                             │                 │\n",
              "├──────────────────────────────────────┼─────────────────────────────┼─────────────────┤\n",
              "│ max_pooling2d_5 (<span style=\"color: #0087ff; text-decoration-color: #0087ff\">MaxPooling2D</span>)       │ (<span style=\"color: #00d7ff; text-decoration-color: #00d7ff\">None</span>, <span style=\"color: #00af00; text-decoration-color: #00af00\">62</span>, <span style=\"color: #00af00; text-decoration-color: #00af00\">62</span>, <span style=\"color: #00af00; text-decoration-color: #00af00\">64</span>)          │               <span style=\"color: #00af00; text-decoration-color: #00af00\">0</span> │\n",
              "├──────────────────────────────────────┼─────────────────────────────┼─────────────────┤\n",
              "│ conv2d_6 (<span style=\"color: #0087ff; text-decoration-color: #0087ff\">Conv2D</span>)                    │ (<span style=\"color: #00d7ff; text-decoration-color: #00d7ff\">None</span>, <span style=\"color: #00af00; text-decoration-color: #00af00\">60</span>, <span style=\"color: #00af00; text-decoration-color: #00af00\">60</span>, <span style=\"color: #00af00; text-decoration-color: #00af00\">128</span>)         │          <span style=\"color: #00af00; text-decoration-color: #00af00\">73,856</span> │\n",
              "├──────────────────────────────────────┼─────────────────────────────┼─────────────────┤\n",
              "│ batch_normalization_8                │ (<span style=\"color: #00d7ff; text-decoration-color: #00d7ff\">None</span>, <span style=\"color: #00af00; text-decoration-color: #00af00\">60</span>, <span style=\"color: #00af00; text-decoration-color: #00af00\">60</span>, <span style=\"color: #00af00; text-decoration-color: #00af00\">128</span>)         │             <span style=\"color: #00af00; text-decoration-color: #00af00\">512</span> │\n",
              "│ (<span style=\"color: #0087ff; text-decoration-color: #0087ff\">BatchNormalization</span>)                 │                             │                 │\n",
              "├──────────────────────────────────────┼─────────────────────────────┼─────────────────┤\n",
              "│ max_pooling2d_6 (<span style=\"color: #0087ff; text-decoration-color: #0087ff\">MaxPooling2D</span>)       │ (<span style=\"color: #00d7ff; text-decoration-color: #00d7ff\">None</span>, <span style=\"color: #00af00; text-decoration-color: #00af00\">30</span>, <span style=\"color: #00af00; text-decoration-color: #00af00\">30</span>, <span style=\"color: #00af00; text-decoration-color: #00af00\">128</span>)         │               <span style=\"color: #00af00; text-decoration-color: #00af00\">0</span> │\n",
              "├──────────────────────────────────────┼─────────────────────────────┼─────────────────┤\n",
              "│ conv2d_7 (<span style=\"color: #0087ff; text-decoration-color: #0087ff\">Conv2D</span>)                    │ (<span style=\"color: #00d7ff; text-decoration-color: #00d7ff\">None</span>, <span style=\"color: #00af00; text-decoration-color: #00af00\">28</span>, <span style=\"color: #00af00; text-decoration-color: #00af00\">28</span>, <span style=\"color: #00af00; text-decoration-color: #00af00\">256</span>)         │         <span style=\"color: #00af00; text-decoration-color: #00af00\">295,168</span> │\n",
              "├──────────────────────────────────────┼─────────────────────────────┼─────────────────┤\n",
              "│ batch_normalization_9                │ (<span style=\"color: #00d7ff; text-decoration-color: #00d7ff\">None</span>, <span style=\"color: #00af00; text-decoration-color: #00af00\">28</span>, <span style=\"color: #00af00; text-decoration-color: #00af00\">28</span>, <span style=\"color: #00af00; text-decoration-color: #00af00\">256</span>)         │           <span style=\"color: #00af00; text-decoration-color: #00af00\">1,024</span> │\n",
              "│ (<span style=\"color: #0087ff; text-decoration-color: #0087ff\">BatchNormalization</span>)                 │                             │                 │\n",
              "├──────────────────────────────────────┼─────────────────────────────┼─────────────────┤\n",
              "│ max_pooling2d_7 (<span style=\"color: #0087ff; text-decoration-color: #0087ff\">MaxPooling2D</span>)       │ (<span style=\"color: #00d7ff; text-decoration-color: #00d7ff\">None</span>, <span style=\"color: #00af00; text-decoration-color: #00af00\">14</span>, <span style=\"color: #00af00; text-decoration-color: #00af00\">14</span>, <span style=\"color: #00af00; text-decoration-color: #00af00\">256</span>)         │               <span style=\"color: #00af00; text-decoration-color: #00af00\">0</span> │\n",
              "├──────────────────────────────────────┼─────────────────────────────┼─────────────────┤\n",
              "│ flatten_1 (<span style=\"color: #0087ff; text-decoration-color: #0087ff\">Flatten</span>)                  │ (<span style=\"color: #00d7ff; text-decoration-color: #00d7ff\">None</span>, <span style=\"color: #00af00; text-decoration-color: #00af00\">50176</span>)               │               <span style=\"color: #00af00; text-decoration-color: #00af00\">0</span> │\n",
              "├──────────────────────────────────────┼─────────────────────────────┼─────────────────┤\n",
              "│ dense_3 (<span style=\"color: #0087ff; text-decoration-color: #0087ff\">Dense</span>)                      │ (<span style=\"color: #00d7ff; text-decoration-color: #00d7ff\">None</span>, <span style=\"color: #00af00; text-decoration-color: #00af00\">256</span>)                 │      <span style=\"color: #00af00; text-decoration-color: #00af00\">12,845,312</span> │\n",
              "├──────────────────────────────────────┼─────────────────────────────┼─────────────────┤\n",
              "│ batch_normalization_10               │ (<span style=\"color: #00d7ff; text-decoration-color: #00d7ff\">None</span>, <span style=\"color: #00af00; text-decoration-color: #00af00\">256</span>)                 │           <span style=\"color: #00af00; text-decoration-color: #00af00\">1,024</span> │\n",
              "│ (<span style=\"color: #0087ff; text-decoration-color: #0087ff\">BatchNormalization</span>)                 │                             │                 │\n",
              "├──────────────────────────────────────┼─────────────────────────────┼─────────────────┤\n",
              "│ dropout_2 (<span style=\"color: #0087ff; text-decoration-color: #0087ff\">Dropout</span>)                  │ (<span style=\"color: #00d7ff; text-decoration-color: #00d7ff\">None</span>, <span style=\"color: #00af00; text-decoration-color: #00af00\">256</span>)                 │               <span style=\"color: #00af00; text-decoration-color: #00af00\">0</span> │\n",
              "├──────────────────────────────────────┼─────────────────────────────┼─────────────────┤\n",
              "│ dense_4 (<span style=\"color: #0087ff; text-decoration-color: #0087ff\">Dense</span>)                      │ (<span style=\"color: #00d7ff; text-decoration-color: #00d7ff\">None</span>, <span style=\"color: #00af00; text-decoration-color: #00af00\">128</span>)                 │          <span style=\"color: #00af00; text-decoration-color: #00af00\">32,896</span> │\n",
              "├──────────────────────────────────────┼─────────────────────────────┼─────────────────┤\n",
              "│ batch_normalization_11               │ (<span style=\"color: #00d7ff; text-decoration-color: #00d7ff\">None</span>, <span style=\"color: #00af00; text-decoration-color: #00af00\">128</span>)                 │             <span style=\"color: #00af00; text-decoration-color: #00af00\">512</span> │\n",
              "│ (<span style=\"color: #0087ff; text-decoration-color: #0087ff\">BatchNormalization</span>)                 │                             │                 │\n",
              "├──────────────────────────────────────┼─────────────────────────────┼─────────────────┤\n",
              "│ dropout_3 (<span style=\"color: #0087ff; text-decoration-color: #0087ff\">Dropout</span>)                  │ (<span style=\"color: #00d7ff; text-decoration-color: #00d7ff\">None</span>, <span style=\"color: #00af00; text-decoration-color: #00af00\">128</span>)                 │               <span style=\"color: #00af00; text-decoration-color: #00af00\">0</span> │\n",
              "├──────────────────────────────────────┼─────────────────────────────┼─────────────────┤\n",
              "│ dense_5 (<span style=\"color: #0087ff; text-decoration-color: #0087ff\">Dense</span>)                      │ (<span style=\"color: #00d7ff; text-decoration-color: #00d7ff\">None</span>, <span style=\"color: #00af00; text-decoration-color: #00af00\">3</span>)                   │             <span style=\"color: #00af00; text-decoration-color: #00af00\">387</span> │\n",
              "└──────────────────────────────────────┴─────────────────────────────┴─────────────────┘\n",
              "</pre>\n"
            ]
          },
          "metadata": {}
        },
        {
          "output_type": "display_data",
          "data": {
            "text/plain": [
              "\u001b[1m Total params: \u001b[0m\u001b[38;5;34m13,270,467\u001b[0m (50.62 MB)\n"
            ],
            "text/html": [
              "<pre style=\"white-space:pre;overflow-x:auto;line-height:normal;font-family:Menlo,'DejaVu Sans Mono',consolas,'Courier New',monospace\"><span style=\"font-weight: bold\"> Total params: </span><span style=\"color: #00af00; text-decoration-color: #00af00\">13,270,467</span> (50.62 MB)\n",
              "</pre>\n"
            ]
          },
          "metadata": {}
        },
        {
          "output_type": "display_data",
          "data": {
            "text/plain": [
              "\u001b[1m Trainable params: \u001b[0m\u001b[38;5;34m13,268,739\u001b[0m (50.62 MB)\n"
            ],
            "text/html": [
              "<pre style=\"white-space:pre;overflow-x:auto;line-height:normal;font-family:Menlo,'DejaVu Sans Mono',consolas,'Courier New',monospace\"><span style=\"font-weight: bold\"> Trainable params: </span><span style=\"color: #00af00; text-decoration-color: #00af00\">13,268,739</span> (50.62 MB)\n",
              "</pre>\n"
            ]
          },
          "metadata": {}
        },
        {
          "output_type": "display_data",
          "data": {
            "text/plain": [
              "\u001b[1m Non-trainable params: \u001b[0m\u001b[38;5;34m1,728\u001b[0m (6.75 KB)\n"
            ],
            "text/html": [
              "<pre style=\"white-space:pre;overflow-x:auto;line-height:normal;font-family:Menlo,'DejaVu Sans Mono',consolas,'Courier New',monospace\"><span style=\"font-weight: bold\"> Non-trainable params: </span><span style=\"color: #00af00; text-decoration-color: #00af00\">1,728</span> (6.75 KB)\n",
              "</pre>\n"
            ]
          },
          "metadata": {}
        }
      ],
      "source": [
        "model=Sequential()\n",
        "\n",
        "model.add(Conv2D(32,(3,3), activation='relu', input_shape=(IMG_HEIGHT,IMG_WIDTH,3), kernel_regularizer=tf.keras.regularizers.l2(0.005)))\n",
        "model.add(BatchNormalization())\n",
        "model.add(MaxPooling2D(pool_size=(2,2)))\n",
        "\n",
        "model.add(Conv2D(64,(3,3), activation='relu', kernel_regularizer=tf.keras.regularizers.l2(0.005)))\n",
        "model.add(BatchNormalization())\n",
        "model.add(MaxPooling2D(pool_size=(2,2)))\n",
        "\n",
        "model.add(Conv2D(128,(3,3), activation='relu', kernel_regularizer=tf.keras.regularizers.l2(0.005)))\n",
        "model.add(BatchNormalization())\n",
        "model.add(MaxPooling2D(pool_size=(2,2)))\n",
        "\n",
        "model.add(Conv2D(256,(3,3), activation='relu', kernel_regularizer=tf.keras.regularizers.l2(0.005)))\n",
        "model.add(BatchNormalization())\n",
        "model.add(MaxPooling2D(pool_size=(2,2)))\n",
        "\n",
        "model.add(Flatten())\n",
        "\n",
        "model.add(Dense(256,activation='relu', kernel_regularizer=tf.keras.regularizers.l2(0.005)))\n",
        "model.add(BatchNormalization())\n",
        "model.add(Dropout(0.3))\n",
        "\n",
        "model.add(Dense(128,activation='relu', kernel_regularizer=tf.keras.regularizers.l2(0.005)))\n",
        "model.add(BatchNormalization())\n",
        "model.add(Dropout(0.3))\n",
        "\n",
        "model.add(Dense(3,activation='softmax'))\n",
        "\n",
        "model.compile(\n",
        "    loss='categorical_crossentropy',\n",
        "    optimizer=Adam(learning_rate=0.0001),\n",
        "    metrics=['accuracy']\n",
        ")\n",
        "\n",
        "# Model Summary\n",
        "model.summary()"
      ]
    },
    {
      "cell_type": "code",
      "execution_count": null,
      "metadata": {
        "colab": {
          "base_uri": "https://localhost:8080/"
        },
        "id": "hDZ_VhFih0k3",
        "outputId": "841ece5b-26a9-43e9-fa0d-95ed8272673c"
      },
      "outputs": [
        {
          "output_type": "stream",
          "name": "stderr",
          "text": [
            "/usr/local/lib/python3.11/dist-packages/keras/src/trainers/data_adapters/py_dataset_adapter.py:121: UserWarning: Your `PyDataset` class should call `super().__init__(**kwargs)` in its constructor. `**kwargs` can include `workers`, `use_multiprocessing`, `max_queue_size`. Do not pass these arguments to `fit()`, as they will be ignored.\n",
            "  self._warn_if_super_not_called()\n"
          ]
        },
        {
          "output_type": "stream",
          "name": "stdout",
          "text": [
            "Epoch 1/50\n",
            "\u001b[1m428/428\u001b[0m \u001b[32m━━━━━━━━━━━━━━━━━━━━\u001b[0m\u001b[37m\u001b[0m \u001b[1m122s\u001b[0m 264ms/step - accuracy: 0.8207 - loss: 5.3144 - val_accuracy: 0.8443 - val_loss: 4.6055\n",
            "Epoch 2/50\n",
            "\u001b[1m428/428\u001b[0m \u001b[32m━━━━━━━━━━━━━━━━━━━━\u001b[0m\u001b[37m\u001b[0m \u001b[1m108s\u001b[0m 253ms/step - accuracy: 0.9291 - loss: 4.1971 - val_accuracy: 0.9471 - val_loss: 3.5884\n",
            "Epoch 3/50\n",
            "\u001b[1m428/428\u001b[0m \u001b[32m━━━━━━━━━━━━━━━━━━━━\u001b[0m\u001b[37m\u001b[0m \u001b[1m110s\u001b[0m 256ms/step - accuracy: 0.9398 - loss: 3.4200 - val_accuracy: 0.9642 - val_loss: 2.9198\n",
            "Epoch 4/50\n",
            "\u001b[1m428/428\u001b[0m \u001b[32m━━━━━━━━━━━━━━━━━━━━\u001b[0m\u001b[37m\u001b[0m \u001b[1m110s\u001b[0m 256ms/step - accuracy: 0.9559 - loss: 2.8103 - val_accuracy: 0.9631 - val_loss: 2.4539\n",
            "Epoch 5/50\n",
            "\u001b[1m428/428\u001b[0m \u001b[32m━━━━━━━━━━━━━━━━━━━━\u001b[0m\u001b[37m\u001b[0m \u001b[1m108s\u001b[0m 253ms/step - accuracy: 0.9639 - loss: 2.3786 - val_accuracy: 0.9618 - val_loss: 2.1797\n",
            "Epoch 6/50\n",
            "\u001b[1m428/428\u001b[0m \u001b[32m━━━━━━━━━━━━━━━━━━━━\u001b[0m\u001b[37m\u001b[0m \u001b[1m106s\u001b[0m 249ms/step - accuracy: 0.9660 - loss: 2.1082 - val_accuracy: 0.9659 - val_loss: 1.9540\n",
            "Epoch 7/50\n",
            "\u001b[1m428/428\u001b[0m \u001b[32m━━━━━━━━━━━━━━━━━━━━\u001b[0m\u001b[37m\u001b[0m \u001b[1m106s\u001b[0m 247ms/step - accuracy: 0.9598 - loss: 1.9401 - val_accuracy: 0.9590 - val_loss: 1.7974\n",
            "Epoch 8/50\n",
            "\u001b[1m428/428\u001b[0m \u001b[32m━━━━━━━━━━━━━━━━━━━━\u001b[0m\u001b[37m\u001b[0m \u001b[1m109s\u001b[0m 253ms/step - accuracy: 0.9679 - loss: 1.7433 - val_accuracy: 0.9481 - val_loss: 1.7620\n",
            "Epoch 9/50\n",
            "\u001b[1m428/428\u001b[0m \u001b[32m━━━━━━━━━━━━━━━━━━━━\u001b[0m\u001b[37m\u001b[0m \u001b[1m110s\u001b[0m 257ms/step - accuracy: 0.9591 - loss: 1.6860 - val_accuracy: 0.9720 - val_loss: 1.5492\n",
            "Epoch 10/50\n",
            "\u001b[1m428/428\u001b[0m \u001b[32m━━━━━━━━━━━━━━━━━━━━\u001b[0m\u001b[37m\u001b[0m \u001b[1m108s\u001b[0m 251ms/step - accuracy: 0.9624 - loss: 1.5471 - val_accuracy: 0.9543 - val_loss: 1.4992\n",
            "Epoch 11/50\n",
            "\u001b[1m428/428\u001b[0m \u001b[32m━━━━━━━━━━━━━━━━━━━━\u001b[0m\u001b[37m\u001b[0m \u001b[1m105s\u001b[0m 247ms/step - accuracy: 0.9570 - loss: 1.4775 - val_accuracy: 0.9604 - val_loss: 1.4089\n",
            "Epoch 12/50\n",
            "\u001b[1m428/428\u001b[0m \u001b[32m━━━━━━━━━━━━━━━━━━━━\u001b[0m\u001b[37m\u001b[0m \u001b[1m109s\u001b[0m 254ms/step - accuracy: 0.9412 - loss: 1.4680 - val_accuracy: 0.9635 - val_loss: 1.3279\n",
            "Epoch 13/50\n",
            "\u001b[1m428/428\u001b[0m \u001b[32m━━━━━━━━━━━━━━━━━━━━\u001b[0m\u001b[37m\u001b[0m \u001b[1m110s\u001b[0m 255ms/step - accuracy: 0.9566 - loss: 1.3253 - val_accuracy: 0.9450 - val_loss: 1.3213\n",
            "Epoch 14/50\n",
            "\u001b[1m428/428\u001b[0m \u001b[32m━━━━━━━━━━━━━━━━━━━━\u001b[0m\u001b[37m\u001b[0m \u001b[1m108s\u001b[0m 252ms/step - accuracy: 0.9575 - loss: 1.2839 - val_accuracy: 0.9669 - val_loss: 1.2022\n",
            "Epoch 15/50\n",
            "\u001b[1m428/428\u001b[0m \u001b[32m━━━━━━━━━━━━━━━━━━━━\u001b[0m\u001b[37m\u001b[0m \u001b[1m106s\u001b[0m 248ms/step - accuracy: 0.9661 - loss: 1.1846 - val_accuracy: 0.9727 - val_loss: 1.1220\n",
            "Epoch 16/50\n",
            "\u001b[1m428/428\u001b[0m \u001b[32m━━━━━━━━━━━━━━━━━━━━\u001b[0m\u001b[37m\u001b[0m \u001b[1m105s\u001b[0m 246ms/step - accuracy: 0.9691 - loss: 1.1105 - val_accuracy: 0.9700 - val_loss: 1.1137\n",
            "Epoch 17/50\n",
            "\u001b[1m428/428\u001b[0m \u001b[32m━━━━━━━━━━━━━━━━━━━━\u001b[0m\u001b[37m\u001b[0m \u001b[1m107s\u001b[0m 250ms/step - accuracy: 0.9682 - loss: 1.0864 - val_accuracy: 0.9730 - val_loss: 1.0211\n",
            "Epoch 18/50\n",
            "\u001b[1m428/428\u001b[0m \u001b[32m━━━━━━━━━━━━━━━━━━━━\u001b[0m\u001b[37m\u001b[0m \u001b[1m101s\u001b[0m 236ms/step - accuracy: 0.9650 - loss: 1.0397 - val_accuracy: 0.9464 - val_loss: 1.0306\n",
            "Epoch 19/50\n",
            "\u001b[1m428/428\u001b[0m \u001b[32m━━━━━━━━━━━━━━━━━━━━\u001b[0m\u001b[37m\u001b[0m \u001b[1m105s\u001b[0m 246ms/step - accuracy: 0.9666 - loss: 0.9752 - val_accuracy: 0.9717 - val_loss: 0.9152\n",
            "Epoch 20/50\n",
            "\u001b[1m428/428\u001b[0m \u001b[32m━━━━━━━━━━━━━━━━━━━━\u001b[0m\u001b[37m\u001b[0m \u001b[1m105s\u001b[0m 244ms/step - accuracy: 0.9735 - loss: 0.9009 - val_accuracy: 0.9515 - val_loss: 1.0268\n",
            "Epoch 21/50\n",
            "\u001b[1m428/428\u001b[0m \u001b[32m━━━━━━━━━━━━━━━━━━━━\u001b[0m\u001b[37m\u001b[0m \u001b[1m105s\u001b[0m 247ms/step - accuracy: 0.9531 - loss: 0.9685 - val_accuracy: 0.9676 - val_loss: 0.8593\n",
            "Epoch 22/50\n",
            "\u001b[1m428/428\u001b[0m \u001b[32m━━━━━━━━━━━━━━━━━━━━\u001b[0m\u001b[37m\u001b[0m \u001b[1m106s\u001b[0m 248ms/step - accuracy: 0.9739 - loss: 0.8309 - val_accuracy: 0.9652 - val_loss: 0.8432\n",
            "Epoch 23/50\n",
            "\u001b[1m428/428\u001b[0m \u001b[32m━━━━━━━━━━━━━━━━━━━━\u001b[0m\u001b[37m\u001b[0m \u001b[1m102s\u001b[0m 237ms/step - accuracy: 0.9753 - loss: 0.7776 - val_accuracy: 0.9638 - val_loss: 0.7765\n",
            "Epoch 24/50\n",
            "\u001b[1m428/428\u001b[0m \u001b[32m━━━━━━━━━━━━━━━━━━━━\u001b[0m\u001b[37m\u001b[0m \u001b[1m103s\u001b[0m 240ms/step - accuracy: 0.9730 - loss: 0.7520 - val_accuracy: 0.9768 - val_loss: 0.7189\n",
            "Epoch 25/50\n",
            "\u001b[1m428/428\u001b[0m \u001b[32m━━━━━━━━━━━━━━━━━━━━\u001b[0m\u001b[37m\u001b[0m \u001b[1m104s\u001b[0m 244ms/step - accuracy: 0.9828 - loss: 0.6753 - val_accuracy: 0.9682 - val_loss: 0.6986\n",
            "Epoch 26/50\n",
            "\u001b[1m428/428\u001b[0m \u001b[32m━━━━━━━━━━━━━━━━━━━━\u001b[0m\u001b[37m\u001b[0m \u001b[1m103s\u001b[0m 239ms/step - accuracy: 0.9781 - loss: 0.6658 - val_accuracy: 0.9693 - val_loss: 0.6606\n",
            "Epoch 27/50\n",
            "\u001b[1m428/428\u001b[0m \u001b[32m━━━━━━━━━━━━━━━━━━━━\u001b[0m\u001b[37m\u001b[0m \u001b[1m104s\u001b[0m 244ms/step - accuracy: 0.9747 - loss: 0.6559 - val_accuracy: 0.6473 - val_loss: 2.5584\n",
            "Epoch 28/50\n",
            "\u001b[1m428/428\u001b[0m \u001b[32m━━━━━━━━━━━━━━━━━━━━\u001b[0m\u001b[37m\u001b[0m \u001b[1m103s\u001b[0m 241ms/step - accuracy: 0.9574 - loss: 0.7190 - val_accuracy: 0.9778 - val_loss: 0.5976\n",
            "Epoch 29/50\n",
            "\u001b[1m428/428\u001b[0m \u001b[32m━━━━━━━━━━━━━━━━━━━━\u001b[0m\u001b[37m\u001b[0m \u001b[1m105s\u001b[0m 246ms/step - accuracy: 0.9830 - loss: 0.5732 - val_accuracy: 0.9812 - val_loss: 0.5533\n",
            "Epoch 30/50\n",
            "\u001b[1m428/428\u001b[0m \u001b[32m━━━━━━━━━━━━━━━━━━━━\u001b[0m\u001b[37m\u001b[0m \u001b[1m98s\u001b[0m 228ms/step - accuracy: 0.9826 - loss: 0.5335 - val_accuracy: 0.9795 - val_loss: 0.5253\n",
            "Epoch 31/50\n",
            "\u001b[1m428/428\u001b[0m \u001b[32m━━━━━━━━━━━━━━━━━━━━\u001b[0m\u001b[37m\u001b[0m \u001b[1m106s\u001b[0m 247ms/step - accuracy: 0.9809 - loss: 0.5162 - val_accuracy: 0.9730 - val_loss: 0.5738\n",
            "Epoch 32/50\n",
            "\u001b[1m428/428\u001b[0m \u001b[32m━━━━━━━━━━━━━━━━━━━━\u001b[0m\u001b[37m\u001b[0m \u001b[1m103s\u001b[0m 240ms/step - accuracy: 0.9799 - loss: 0.5314 - val_accuracy: 0.9737 - val_loss: 0.5290\n",
            "Epoch 33/50\n",
            "\u001b[1m428/428\u001b[0m \u001b[32m━━━━━━━━━━━━━━━━━━━━\u001b[0m\u001b[37m\u001b[0m \u001b[1m101s\u001b[0m 236ms/step - accuracy: 0.9856 - loss: 0.4799 - val_accuracy: 0.9553 - val_loss: 0.5466\n",
            "Epoch 34/50\n",
            "\u001b[1m428/428\u001b[0m \u001b[32m━━━━━━━━━━━━━━━━━━━━\u001b[0m\u001b[37m\u001b[0m \u001b[1m105s\u001b[0m 246ms/step - accuracy: 0.9780 - loss: 0.4878 - val_accuracy: 0.9577 - val_loss: 0.6254\n",
            "Epoch 35/50\n",
            "\u001b[1m428/428\u001b[0m \u001b[32m━━━━━━━━━━━━━━━━━━━━\u001b[0m\u001b[37m\u001b[0m \u001b[1m104s\u001b[0m 243ms/step - accuracy: 0.9785 - loss: 0.5336 - val_accuracy: 0.9778 - val_loss: 0.4765\n",
            "Epoch 36/50\n",
            "\u001b[1m428/428\u001b[0m \u001b[32m━━━━━━━━━━━━━━━━━━━━\u001b[0m\u001b[37m\u001b[0m \u001b[1m103s\u001b[0m 242ms/step - accuracy: 0.9882 - loss: 0.4380 - val_accuracy: 0.9775 - val_loss: 0.4598\n",
            "Epoch 37/50\n",
            "\u001b[1m428/428\u001b[0m \u001b[32m━━━━━━━━━━━━━━━━━━━━\u001b[0m\u001b[37m\u001b[0m \u001b[1m103s\u001b[0m 240ms/step - accuracy: 0.9881 - loss: 0.4152 - val_accuracy: 0.9805 - val_loss: 0.4348\n",
            "Epoch 38/50\n",
            "\u001b[1m428/428\u001b[0m \u001b[32m━━━━━━━━━━━━━━━━━━━━\u001b[0m\u001b[37m\u001b[0m \u001b[1m103s\u001b[0m 240ms/step - accuracy: 0.9798 - loss: 0.4440 - val_accuracy: 0.9751 - val_loss: 0.4489\n",
            "Epoch 39/50\n",
            "\u001b[1m428/428\u001b[0m \u001b[32m━━━━━━━━━━━━━━━━━━━━\u001b[0m\u001b[37m\u001b[0m \u001b[1m107s\u001b[0m 250ms/step - accuracy: 0.9714 - loss: 0.4906 - val_accuracy: 0.9758 - val_loss: 0.4673\n",
            "Epoch 40/50\n",
            "\u001b[1m428/428\u001b[0m \u001b[32m━━━━━━━━━━━━━━━━━━━━\u001b[0m\u001b[37m\u001b[0m \u001b[1m110s\u001b[0m 256ms/step - accuracy: 0.9861 - loss: 0.4275 - val_accuracy: 0.9741 - val_loss: 0.4409\n",
            "Epoch 41/50\n",
            "\u001b[1m428/428\u001b[0m \u001b[32m━━━━━━━━━━━━━━━━━━━━\u001b[0m\u001b[37m\u001b[0m \u001b[1m110s\u001b[0m 255ms/step - accuracy: 0.9848 - loss: 0.4092 - val_accuracy: 0.9628 - val_loss: 0.5608\n",
            "Epoch 42/50\n",
            "\u001b[1m428/428\u001b[0m \u001b[32m━━━━━━━━━━━━━━━━━━━━\u001b[0m\u001b[37m\u001b[0m \u001b[1m106s\u001b[0m 248ms/step - accuracy: 0.9807 - loss: 0.4798 - val_accuracy: 0.9642 - val_loss: 0.5265\n"
          ]
        }
      ],
      "source": [
        "early_stopping = tf.keras.callbacks.EarlyStopping(monitor='val_loss', patience=5, restore_best_weights=True)\n",
        "# reduce_lr = tf.keras.callbacks.ReduceLROnPlateau(monitor='val_loss', factor=0.5, patience=3, verbose=1)\n",
        "Epochs=50\n",
        "history = model.fit(\n",
        "    train_generator,\n",
        "    epochs=Epochs,\n",
        "    validation_data=val_generator,\n",
        "    callbacks=[early_stopping]\n",
        ")"
      ]
    },
    {
      "cell_type": "code",
      "execution_count": null,
      "metadata": {
        "id": "B1068hNYh1XE",
        "colab": {
          "base_uri": "https://localhost:8080/"
        },
        "outputId": "d655f425-111c-4c32-916b-4c6d3cffa1dd"
      },
      "outputs": [
        {
          "output_type": "stream",
          "name": "stdout",
          "text": [
            "\u001b[1m92/92\u001b[0m \u001b[32m━━━━━━━━━━━━━━━━━━━━\u001b[0m\u001b[37m\u001b[0m \u001b[1m20s\u001b[0m 208ms/step - accuracy: 0.9722 - loss: 0.4479\n",
            "Test Accuracy: 97.34%\n"
          ]
        }
      ],
      "source": [
        "# Evaluate on test data\n",
        "test_loss, test_acc = model.evaluate(test_generator)\n",
        "print(f\"Test Accuracy: {test_acc * 100:.2f}%\")"
      ]
    },
    {
      "cell_type": "code",
      "source": [
        "model.save(\"fruit_quality_cnn_model.h5\")\n",
        "print(\"Model saved successfully!\")"
      ],
      "metadata": {
        "colab": {
          "base_uri": "https://localhost:8080/"
        },
        "id": "UxNgmbXSkZZG",
        "outputId": "bde5072b-21a7-478b-e663-7b030af00fea"
      },
      "execution_count": null,
      "outputs": [
        {
          "output_type": "stream",
          "name": "stderr",
          "text": [
            "WARNING:absl:You are saving your model as an HDF5 file via `model.save()` or `keras.saving.save_model(model)`. This file format is considered legacy. We recommend using instead the native Keras format, e.g. `model.save('my_model.keras')` or `keras.saving.save_model(model, 'my_model.keras')`. \n"
          ]
        },
        {
          "output_type": "stream",
          "name": "stdout",
          "text": [
            "Model saved successfully!\n"
          ]
        }
      ]
    },
    {
      "cell_type": "code",
      "execution_count": null,
      "metadata": {
        "id": "56r6Creaedpl",
        "colab": {
          "base_uri": "https://localhost:8080/"
        },
        "outputId": "235ac456-571f-4748-dcf0-49f85e1b6800"
      },
      "outputs": [
        {
          "output_type": "stream",
          "name": "stderr",
          "text": [
            "WARNING:absl:Compiled the loaded model, but the compiled metrics have yet to be built. `model.compile_metrics` will be empty until you train or evaluate the model.\n"
          ]
        }
      ],
      "source": [
        "model = keras.models.load_model(\"fruit_quality_cnn_model.h5\")\n",
        "\n",
        "def predict_image(img_path):\n",
        "    img = image.load_img(img_path, target_size=(IMG_HEIGHT, IMG_WIDTH))\n",
        "    img_array = image.img_to_array(img) / 255.0\n",
        "    img_array = np.expand_dims(img_array, axis=0)\n",
        "\n",
        "    prediction = model.predict(img_array)\n",
        "    predicted_class = class_labels[np.argmax(prediction)]\n",
        "\n",
        "    print(f\"Predicted Class: {predicted_class}\")"
      ]
    },
    {
      "cell_type": "code",
      "source": [
        "predict_image(\"Unknown.jpeg\")"
      ],
      "metadata": {
        "colab": {
          "base_uri": "https://localhost:8080/"
        },
        "id": "7WLQm0zMpioF",
        "outputId": "78996c70-3bc3-4a64-dd4c-8fc84935d971"
      },
      "execution_count": null,
      "outputs": [
        {
          "output_type": "stream",
          "name": "stdout",
          "text": [
            "\u001b[1m1/1\u001b[0m \u001b[32m━━━━━━━━━━━━━━━━━━━━\u001b[0m\u001b[37m\u001b[0m \u001b[1m1s\u001b[0m 544ms/step\n",
            "Predicted Class: Bad Quality_Fruits\n"
          ]
        }
      ]
    },
    {
      "cell_type": "code",
      "execution_count": null,
      "metadata": {
        "id": "ZscwmwYTe9VN",
        "colab": {
          "base_uri": "https://localhost:8080/"
        },
        "outputId": "821e7870-38a9-46b2-9b9f-da51d0f7db14"
      },
      "outputs": [
        {
          "output_type": "stream",
          "name": "stdout",
          "text": [
            "\u001b[1m1/1\u001b[0m \u001b[32m━━━━━━━━━━━━━━━━━━━━\u001b[0m\u001b[37m\u001b[0m \u001b[1m0s\u001b[0m 39ms/step\n",
            "Predicted Class: Good Quality_Fruits\n"
          ]
        }
      ],
      "source": [
        "predict_image(\"Unknown-ba.jpeg\")"
      ]
    },
    {
      "cell_type": "markdown",
      "metadata": {
        "id": "d6UqJNj0fesX"
      },
      "source": [
        "# **Graphs**"
      ]
    },
    {
      "cell_type": "code",
      "execution_count": null,
      "metadata": {
        "id": "lTzl9HhnhGJm",
        "colab": {
          "base_uri": "https://localhost:8080/",
          "height": 361
        },
        "outputId": "7ede976c-ce61-4a91-8484-a5cf6c29dcc9"
      },
      "outputs": [
        {
          "output_type": "display_data",
          "data": {
            "text/plain": [
              "<Figure size 1500x500 with 2 Axes>"
            ],
            "image/png": "[encoded data removed]"
          },
          "metadata": {}
        }
      ],
      "source": [
        "train_acc = history.history['accuracy']\n",
        "val_acc = history.history['val_accuracy']\n",
        "train_loss = history.history['loss']\n",
        "val_loss = history.history['val_loss']\n",
        "\n",
        "epochs = range(1, len(train_acc) + 1)\n",
        "\n",
        "# # Accuracy Graph\n",
        "# plt.figure(figsize=(10, 5))\n",
        "# plt.plot(epochs, train_acc, label=\"Train Accuracy\", marker='o')\n",
        "# plt.plot(epochs, val_acc, label=\"Validation Accuracy\", marker='s')\n",
        "# plt.xlabel(\"Epochs\")\n",
        "# plt.ylabel(\"Accuracy\")\n",
        "# plt.title(\"Training vs Validation Accuracy\")\n",
        "# plt.legend()\n",
        "# plt.grid()\n",
        "# plt.show()\n",
        "\n",
        "# # Loss Graph\n",
        "# plt.figure(figsize=(10, 5))\n",
        "# plt.plot(epochs, train_loss, label=\"Train Loss\", marker='o', color='red')\n",
        "# plt.plot(epochs, val_loss, label=\"Validation Loss\", marker='s', color='green')\n",
        "# plt.xlabel(\"Epochs\")\n",
        "# plt.ylabel(\"Loss\")\n",
        "# plt.title(\"Training vs Validation Loss\")\n",
        "# plt.legend()\n",
        "# plt.grid()\n",
        "# plt.show()\n",
        "\n",
        "fig, axes = plt.subplots(1, 2, figsize=(15, 5))\n",
        "\n",
        "# Accuracy Graph\n",
        "axes[0].plot(epochs, train_acc, label=\"Train Accuracy\", marker='o')\n",
        "axes[0].plot(epochs, val_acc, label=\"Validation Accuracy\", marker='s')\n",
        "axes[0].set_xlabel(\"Epochs\")\n",
        "axes[0].set_ylabel(\"Accuracy\")\n",
        "axes[0].set_title(\"Training vs Validation Accuracy\")\n",
        "axes[0].legend()\n",
        "axes[0].grid()\n",
        "\n",
        "# Loss Graph\n",
        "axes[1].plot(epochs, train_loss, label=\"Train Loss\", marker='o', color='red')\n",
        "axes[1].plot(epochs, val_loss, label=\"Validation Loss\", marker='s', color='green')\n",
        "axes[1].set_xlabel(\"Epochs\")\n",
        "axes[1].set_ylabel(\"Loss\")\n",
        "axes[1].set_title(\"Training vs Validation Loss\")\n",
        "axes[1].legend()\n",
        "axes[1].grid()\n",
        "\n",
        "# Show both graphs\n",
        "plt.tight_layout()\n",
        "plt.show()"
      ]
    },
    {
      "cell_type": "code",
      "execution_count": null,
      "metadata": {
        "id": "dgsNDOyKhIz5",
        "colab": {
          "base_uri": "https://localhost:8080/",
          "height": 564
        },
        "outputId": "773bca2d-8b02-46aa-e6b1-57ac23b9f8a5"
      },
      "outputs": [
        {
          "output_type": "display_data",
          "data": {
            "text/plain": [
              "<Figure size 800x600 with 2 Axes>"
            ],
            "image/png": "[encoded data removed]"
          },
          "metadata": {}
        }
      ],
      "source": [
        "y_true = test_generator.classes\n",
        "y_pred = model.predict(test_generator, verbose=0)\n",
        "y_pred_classes = np.argmax(y_pred, axis=1)\n",
        "\n",
        "cm = confusion_matrix(y_true, y_pred_classes)\n",
        "plt.figure(figsize=(8, 6))\n",
        "sns.heatmap(cm, annot=True, fmt='d', cmap='Blues',\n",
        "            xticklabels=test_generator.class_indices.keys(),\n",
        "            yticklabels=test_generator.class_indices.keys())\n",
        "plt.xlabel('Predicted Label')\n",
        "plt.ylabel('True Label')\n",
        "plt.title('Confusion Matrix')\n",
        "plt.show()"
      ]
    },
    {
      "cell_type": "code",
      "execution_count": null,
      "metadata": {
        "id": "LlSaIPcLhLJZ",
        "colab": {
          "base_uri": "https://localhost:8080/"
        },
        "outputId": "5020d1c8-4824-4b4a-f87e-b90745bcb007"
      },
      "outputs": [
        {
          "output_type": "stream",
          "name": "stdout",
          "text": [
            "Classification Report:\n",
            "                      precision    recall  f1-score   support\n",
            "\n",
            " Bad Quality_Fruits       0.33      0.32      0.33      1019\n",
            "Good Quality_Fruits       0.59      0.60      0.60      1750\n",
            "Mixed Qualit_Fruits       0.04      0.04      0.04       162\n",
            "\n",
            "           accuracy                           0.48      2931\n",
            "          macro avg       0.32      0.32      0.32      2931\n",
            "       weighted avg       0.47      0.48      0.47      2931\n",
            "\n"
          ]
        }
      ],
      "source": [
        "print(\"Classification Report:\\n\", classification_report(y_true, y_pred_classes, target_names=test_generator.class_indices.keys()))"
      ]
    }
  ],
  "metadata": {
    "colab": {
      "provenance": [],
      "machine_shape": "hm",
      "authorship_tag": "ABX9TyMjFlhluPHzgj4D/t6CFXnC"
    },
    "kernelspec": {
      "display_name": "Python 3",
      "name": "python3"
    },
    "language_info": {
      "name": "python"
    }
  },
  "nbformat": 4,
  "nbformat_minor": 0
}