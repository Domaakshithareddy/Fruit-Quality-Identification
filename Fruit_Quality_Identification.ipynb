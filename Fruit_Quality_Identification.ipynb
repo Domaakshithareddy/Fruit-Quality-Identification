{
  "nbformat": 4,
  "nbformat_minor": 0,
  "metadata": {
    "colab": {
      "provenance": [],
      "gpuType": "T4",
      "authorship_tag": "ABX9TyOG51kPkyS7try6y52eqBd6",
      "include_colab_link": true
    },
    "kernelspec": {
      "name": "python3",
      "display_name": "Python 3"
    },
    "language_info": {
      "name": "python"
    },
    "accelerator": "GPU"
  },
  "cells": [
    {
      "cell_type": "markdown",
      "metadata": {
        "id": "view-in-github",
        "colab_type": "text"
      },
      "source": [
        "<a href=\"https://colab.research.google.com/github/Domaakshithareddy/Fruit-Quality-Identification/blob/main/Fruit_Quality_Identification.ipynb\" target=\"_parent\"><img src=\"https://colab.research.google.com/assets/colab-badge.svg\" alt=\"Open In Colab\"/></a>"
      ]
    },
    {
      "cell_type": "markdown",
      "source": [
        "# **Dataset loading**"
      ],
      "metadata": {
        "id": "EjP4AbsDDr-j"
      }
    },
    {
      "cell_type": "code",
      "execution_count": 1,
      "metadata": {
        "colab": {
          "base_uri": "https://localhost:8080/",
          "height": 92
        },
        "collapsed": true,
        "id": "JZjWhDlv-C8t",
        "outputId": "295491a1-2cd7-4d90-a16c-fda6a9f07494"
      },
      "outputs": [
        {
          "output_type": "display_data",
          "data": {
            "text/plain": [
              "<IPython.core.display.HTML object>"
            ],
            "text/html": [
              "\n",
              "     <input type=\"file\" id=\"files-6ba28789-038a-4454-81b3-b45f3a8c01c8\" name=\"files[]\" multiple disabled\n",
              "        style=\"border:none\" />\n",
              "     <output id=\"result-6ba28789-038a-4454-81b3-b45f3a8c01c8\">\n",
              "      Upload widget is only available when the cell has been executed in the\n",
              "      current browser session. Please rerun this cell to enable.\n",
              "      </output>\n",
              "      <script>// Copyright 2017 Google LLC\n",
              "//\n",
              "// Licensed under the Apache License, Version 2.0 (the \"License\");\n",
              "// you may not use this file except in compliance with the License.\n",
              "// You may obtain a copy of the License at\n",
              "//\n",
              "//      http://www.apache.org/licenses/LICENSE-2.0\n",
              "//\n",
              "// Unless required by applicable law or agreed to in writing, software\n",
              "// distributed under the License is distributed on an \"AS IS\" BASIS,\n",
              "// WITHOUT WARRANTIES OR CONDITIONS OF ANY KIND, either express or implied.\n",
              "// See the License for the specific language governing permissions and\n",
              "// limitations under the License.\n",
              "\n",
              "/**\n",
              " * @fileoverview Helpers for google.colab Python module.\n",
              " */\n",
              "(function(scope) {\n",
              "function span(text, styleAttributes = {}) {\n",
              "  const element = document.createElement('span');\n",
              "  element.textContent = text;\n",
              "  for (const key of Object.keys(styleAttributes)) {\n",
              "    element.style[key] = styleAttributes[key];\n",
              "  }\n",
              "  return element;\n",
              "}\n",
              "\n",
              "// Max number of bytes which will be uploaded at a time.\n",
              "const MAX_PAYLOAD_SIZE = 100 * 1024;\n",
              "\n",
              "function _uploadFiles(inputId, outputId) {\n",
              "  const steps = uploadFilesStep(inputId, outputId);\n",
              "  const outputElement = document.getElementById(outputId);\n",
              "  // Cache steps on the outputElement to make it available for the next call\n",
              "  // to uploadFilesContinue from Python.\n",
              "  outputElement.steps = steps;\n",
              "\n",
              "  return _uploadFilesContinue(outputId);\n",
              "}\n",
              "\n",
              "// This is roughly an async generator (not supported in the browser yet),\n",
              "// where there are multiple asynchronous steps and the Python side is going\n",
              "// to poll for completion of each step.\n",
              "// This uses a Promise to block the python side on completion of each step,\n",
              "// then passes the result of the previous step as the input to the next step.\n",
              "function _uploadFilesContinue(outputId) {\n",
              "  const outputElement = document.getElementById(outputId);\n",
              "  const steps = outputElement.steps;\n",
              "\n",
              "  const next = steps.next(outputElement.lastPromiseValue);\n",
              "  return Promise.resolve(next.value.promise).then((value) => {\n",
              "    // Cache the last promise value to make it available to the next\n",
              "    // step of the generator.\n",
              "    outputElement.lastPromiseValue = value;\n",
              "    return next.value.response;\n",
              "  });\n",
              "}\n",
              "\n",
              "/**\n",
              " * Generator function which is called between each async step of the upload\n",
              " * process.\n",
              " * @param {string} inputId Element ID of the input file picker element.\n",
              " * @param {string} outputId Element ID of the output display.\n",
              " * @return {!Iterable<!Object>} Iterable of next steps.\n",
              " */\n",
              "function* uploadFilesStep(inputId, outputId) {\n",
              "  const inputElement = document.getElementById(inputId);\n",
              "  inputElement.disabled = false;\n",
              "\n",
              "  const outputElement = document.getElementById(outputId);\n",
              "  outputElement.innerHTML = '';\n",
              "\n",
              "  const pickedPromise = new Promise((resolve) => {\n",
              "    inputElement.addEventListener('change', (e) => {\n",
              "      resolve(e.target.files);\n",
              "    });\n",
              "  });\n",
              "\n",
              "  const cancel = document.createElement('button');\n",
              "  inputElement.parentElement.appendChild(cancel);\n",
              "  cancel.textContent = 'Cancel upload';\n",
              "  const cancelPromise = new Promise((resolve) => {\n",
              "    cancel.onclick = () => {\n",
              "      resolve(null);\n",
              "    };\n",
              "  });\n",
              "\n",
              "  // Wait for the user to pick the files.\n",
              "  const files = yield {\n",
              "    promise: Promise.race([pickedPromise, cancelPromise]),\n",
              "    response: {\n",
              "      action: 'starting',\n",
              "    }\n",
              "  };\n",
              "\n",
              "  cancel.remove();\n",
              "\n",
              "  // Disable the input element since further picks are not allowed.\n",
              "  inputElement.disabled = true;\n",
              "\n",
              "  if (!files) {\n",
              "    return {\n",
              "      response: {\n",
              "        action: 'complete',\n",
              "      }\n",
              "    };\n",
              "  }\n",
              "\n",
              "  for (const file of files) {\n",
              "    const li = document.createElement('li');\n",
              "    li.append(span(file.name, {fontWeight: 'bold'}));\n",
              "    li.append(span(\n",
              "        `(${file.type || 'n/a'}) - ${file.size} bytes, ` +\n",
              "        `last modified: ${\n",
              "            file.lastModifiedDate ? file.lastModifiedDate.toLocaleDateString() :\n",
              "                                    'n/a'} - `));\n",
              "    const percent = span('0% done');\n",
              "    li.appendChild(percent);\n",
              "\n",
              "    outputElement.appendChild(li);\n",
              "\n",
              "    const fileDataPromise = new Promise((resolve) => {\n",
              "      const reader = new FileReader();\n",
              "      reader.onload = (e) => {\n",
              "        resolve(e.target.result);\n",
              "      };\n",
              "      reader.readAsArrayBuffer(file);\n",
              "    });\n",
              "    // Wait for the data to be ready.\n",
              "    let fileData = yield {\n",
              "      promise: fileDataPromise,\n",
              "      response: {\n",
              "        action: 'continue',\n",
              "      }\n",
              "    };\n",
              "\n",
              "    // Use a chunked sending to avoid message size limits. See b/62115660.\n",
              "    let position = 0;\n",
              "    do {\n",
              "      const length = Math.min(fileData.byteLength - position, MAX_PAYLOAD_SIZE);\n",
              "      const chunk = new Uint8Array(fileData, position, length);\n",
              "      position += length;\n",
              "\n",
              "      const base64 = btoa(String.fromCharCode.apply(null, chunk));\n",
              "      yield {\n",
              "        response: {\n",
              "          action: 'append',\n",
              "          file: file.name,\n",
              "          data: base64,\n",
              "        },\n",
              "      };\n",
              "\n",
              "      let percentDone = fileData.byteLength === 0 ?\n",
              "          100 :\n",
              "          Math.round((position / fileData.byteLength) * 100);\n",
              "      percent.textContent = `${percentDone}% done`;\n",
              "\n",
              "    } while (position < fileData.byteLength);\n",
              "  }\n",
              "\n",
              "  // All done.\n",
              "  yield {\n",
              "    response: {\n",
              "      action: 'complete',\n",
              "    }\n",
              "  };\n",
              "}\n",
              "\n",
              "scope.google = scope.google || {};\n",
              "scope.google.colab = scope.google.colab || {};\n",
              "scope.google.colab._files = {\n",
              "  _uploadFiles,\n",
              "  _uploadFilesContinue,\n",
              "};\n",
              "})(self);\n",
              "</script> "
            ]
          },
          "metadata": {}
        },
        {
          "output_type": "stream",
          "name": "stdout",
          "text": [
            "Saving kaggle.json to kaggle.json\n"
          ]
        },
        {
          "output_type": "execute_result",
          "data": {
            "text/plain": [
              "{'kaggle.json': b'{\"username\":\"akshithawork\",\"key\":\"2a8a58f04b0f76977865a2f20916dd83\"}'}"
            ]
          },
          "metadata": {},
          "execution_count": 1
        }
      ],
      "source": [
        "from google.colab import files\n",
        "files.upload()"
      ]
    },
    {
      "cell_type": "code",
      "source": [
        "!mkdir -p ~/.kaggle\n",
        "!mv kaggle.json ~/.kaggle/\n",
        "!chmod 600 ~/.kaggle/kaggle.json"
      ],
      "metadata": {
        "id": "PDqJeHDvBljM"
      },
      "execution_count": 2,
      "outputs": []
    },
    {
      "cell_type": "code",
      "source": [
        "!kaggle datasets download -d ryandpark/fruit-quality-classification"
      ],
      "metadata": {
        "colab": {
          "base_uri": "https://localhost:8080/"
        },
        "id": "Bu8_Hyj7BsPs",
        "outputId": "6c184091-819b-4494-82f6-8c2cccbf9545"
      },
      "execution_count": 3,
      "outputs": [
        {
          "output_type": "stream",
          "name": "stdout",
          "text": [
            "Dataset URL: https://www.kaggle.com/datasets/ryandpark/fruit-quality-classification\n",
            "License(s): CC0-1.0\n"
          ]
        }
      ]
    },
    {
      "cell_type": "code",
      "source": [
        "import zipfile\n",
        "import os\n",
        "\n",
        "dataset_path = \"fruit-quality-classification.zip\"  # Ensure this matches the downloaded filename\n",
        "extract_path = \"fruit_quality_data\"  # Folder to extract to\n",
        "\n",
        "with zipfile.ZipFile(dataset_path, 'r') as zip_ref:\n",
        "    zip_ref.extractall(extract_path)\n",
        "\n",
        "# List extracted files\n",
        "os.listdir(extract_path)"
      ],
      "metadata": {
        "colab": {
          "base_uri": "https://localhost:8080/"
        },
        "id": "jMWQUvwSBt9j",
        "outputId": "8346154c-894d-4175-9539-cc1821e6e5df"
      },
      "execution_count": 4,
      "outputs": [
        {
          "output_type": "execute_result",
          "data": {
            "text/plain": [
              "['Mixed Qualit_Fruits', 'Bad Quality_Fruits', 'Good Quality_Fruits']"
            ]
          },
          "metadata": {},
          "execution_count": 4
        }
      ]
    },
    {
      "cell_type": "code",
      "source": [
        "import os\n",
        "\n",
        "# Define dataset paths\n",
        "directories = [\n",
        "    \"fruit_quality_data/Bad Quality_Fruits/Apple_Bad\",\n",
        "    \"fruit_quality_data/Bad Quality_Fruits/Banana_Bad\",\n",
        "    \"fruit_quality_data/Bad Quality_Fruits/Guava_Bad\",\n",
        "    \"fruit_quality_data/Bad Quality_Fruits/Lime_Bad\",\n",
        "    \"fruit_quality_data/Bad Quality_Fruits/Orange_Bad\",\n",
        "    \"fruit_quality_data/Bad Quality_Fruits/Pomegranate_Bad\",\n",
        "    \"fruit_quality_data/Good Quality_Fruits/Apple_Good\",\n",
        "    \"fruit_quality_data/Good Quality_Fruits/Banana_Good\",\n",
        "    \"fruit_quality_data/Good Quality_Fruits/Guava_Good\",\n",
        "    \"fruit_quality_data/Good Quality_Fruits/Lime_Good\",\n",
        "    \"fruit_quality_data/Good Quality_Fruits/Orange_Good\",\n",
        "    \"fruit_quality_data/Good Quality_Fruits/Pomegranate_Good\",\n",
        "    \"fruit_quality_data/Mixed Qualit_Fruits/Apple\",\n",
        "    \"fruit_quality_data/Mixed Qualit_Fruits/Banana\",\n",
        "    \"fruit_quality_data/Mixed Qualit_Fruits/Guava\",\n",
        "    \"fruit_quality_data/Mixed Qualit_Fruits/Lemon\",\n",
        "    \"fruit_quality_data/Mixed Qualit_Fruits/Orange\",\n",
        "    \"fruit_quality_data/Mixed Qualit_Fruits/Pomegranate\",\n",
        "]\n",
        "\n",
        "# Count and print the number of images in each directory\n",
        "total=0\n",
        "for directory in directories:\n",
        "    if os.path.exists(directory):  # Ensure the directory exists\n",
        "        num_images = len([f for f in os.listdir(directory) if os.path.isfile(os.path.join(directory, f))])\n",
        "        print(f\"Number of images in '{directory}': {num_images}\")\n",
        "        total+=num_images\n",
        "    else:\n",
        "        print(f\"Directory '{directory}' does not exist.\")\n",
        "print(total)"
      ],
      "metadata": {
        "colab": {
          "base_uri": "https://localhost:8080/"
        },
        "id": "LcOQyb9x0U6c",
        "outputId": "2839f7a5-5823-4ece-9450-d1d19b6a27a5"
      },
      "execution_count": 5,
      "outputs": [
        {
          "output_type": "stream",
          "name": "stdout",
          "text": [
            "Number of images in 'fruit_quality_data/Bad Quality_Fruits/Apple_Bad': 1141\n",
            "Number of images in 'fruit_quality_data/Bad Quality_Fruits/Banana_Bad': 1087\n",
            "Number of images in 'fruit_quality_data/Bad Quality_Fruits/Guava_Bad': 1129\n",
            "Number of images in 'fruit_quality_data/Bad Quality_Fruits/Lime_Bad': 1085\n",
            "Number of images in 'fruit_quality_data/Bad Quality_Fruits/Orange_Bad': 1159\n",
            "Number of images in 'fruit_quality_data/Bad Quality_Fruits/Pomegranate_Bad': 1187\n",
            "Number of images in 'fruit_quality_data/Good Quality_Fruits/Apple_Good': 1149\n",
            "Number of images in 'fruit_quality_data/Good Quality_Fruits/Banana_Good': 1113\n",
            "Number of images in 'fruit_quality_data/Good Quality_Fruits/Guava_Good': 1152\n",
            "Number of images in 'fruit_quality_data/Good Quality_Fruits/Lime_Good': 1094\n",
            "Number of images in 'fruit_quality_data/Good Quality_Fruits/Orange_Good': 1216\n",
            "Number of images in 'fruit_quality_data/Good Quality_Fruits/Pomegranate_Good': 5940\n",
            "Number of images in 'fruit_quality_data/Mixed Qualit_Fruits/Apple': 113\n",
            "Number of images in 'fruit_quality_data/Mixed Qualit_Fruits/Banana': 285\n",
            "Number of images in 'fruit_quality_data/Mixed Qualit_Fruits/Guava': 148\n",
            "Number of images in 'fruit_quality_data/Mixed Qualit_Fruits/Lemon': 278\n",
            "Number of images in 'fruit_quality_data/Mixed Qualit_Fruits/Orange': 125\n",
            "Number of images in 'fruit_quality_data/Mixed Qualit_Fruits/Pomegranate': 125\n",
            "19526\n"
          ]
        }
      ]
    },
    {
      "cell_type": "markdown",
      "source": [
        "# **Dataset Preparation**"
      ],
      "metadata": {
        "id": "ePMQbMEpnAx6"
      }
    },
    {
      "cell_type": "markdown",
      "source": [
        "split the dataset only into bad good and mixed with all fruits"
      ],
      "metadata": {
        "id": "GMXrNlSOnElH"
      }
    },
    {
      "cell_type": "code",
      "source": [
        "import os\n",
        "import shutil\n",
        "from sklearn.model_selection import train_test_split\n",
        "\n",
        "# Define paths\n",
        "original_dataset_dir = \"fruit_quality_data\"\n",
        "dataset_dir = \"dataset\"\n",
        "categories = [\"Bad Quality_Fruits\", \"Good Quality_Fruits\", \"Mixed Qualit_Fruits\"]\n",
        "\n",
        "train_ratio, val_ratio = 0.7, 0.2\n",
        "\n",
        "for category in categories:\n",
        "    category_path = os.path.join(original_dataset_dir, category)\n",
        "    images = []  # Store all images of this category\n",
        "\n",
        "    # Collect images and print counts per subfolder\n",
        "    for fruit_type in os.listdir(category_path):\n",
        "        fruit_path = os.path.join(category_path, fruit_type)\n",
        "        if os.path.isdir(fruit_path):\n",
        "            fruit_images = [os.path.join(fruit_path, img) for img in os.listdir(fruit_path)]\n",
        "            images.extend(fruit_images)\n",
        "\n",
        "    # Split dataset\n",
        "    train_images, temp_images = train_test_split(images, train_size=train_ratio, random_state=42)\n",
        "    val_images, test_images = train_test_split(temp_images, test_size=0.5, random_state=42)\n",
        "\n",
        "    # Function to copy files safely\n",
        "    def move_images(image_list, destination):\n",
        "        os.makedirs(destination, exist_ok=True)\n",
        "        for img_path in image_list:\n",
        "            if os.path.exists(img_path):\n",
        "                # Rename while copying to avoid overwriting\n",
        "                new_filename = os.path.basename(os.path.dirname(img_path)) + \"_\" + os.path.basename(img_path)\n",
        "                shutil.copy(img_path, os.path.join(destination, new_filename))\n",
        "\n",
        "    # Move images\n",
        "    move_images(train_images, os.path.join(dataset_dir, \"train\", category))\n",
        "    move_images(val_images, os.path.join(dataset_dir, \"val\", category))\n",
        "    move_images(test_images, os.path.join(dataset_dir, \"test\", category))"
      ],
      "metadata": {
        "id": "5dMtOwC0iU7M"
      },
      "execution_count": 7,
      "outputs": []
    },
    {
      "cell_type": "code",
      "source": [
        "import os\n",
        "directories = [\n",
        "    \"dataset/train/Bad Quality_Fruits\",\n",
        "    \"dataset/train/Good Quality_Fruits\",\n",
        "    \"dataset/train/Mixed Qualit_Fruits\",\n",
        "    \"dataset/test/Bad Quality_Fruits\",\n",
        "    \"dataset/test/Good Quality_Fruits\",\n",
        "    \"dataset/test/Mixed Qualit_Fruits\",\n",
        "    \"dataset/val/Bad Quality_Fruits\",\n",
        "    \"dataset/val/Good Quality_Fruits\",\n",
        "    \"dataset/val/Mixed Qualit_Fruits\"\n",
        "]\n",
        "total=0\n",
        "for directory in directories:\n",
        "    if os.path.exists(directory):\n",
        "        num_images = len([f for f in os.listdir(directory) if os.path.isfile(os.path.join(directory, f))])\n",
        "        print(f\"Number of images in '{directory}': {num_images}\")\n",
        "        total+=num_images\n",
        "    else:\n",
        "        print(f\"Directory '{directory}' does not exist.\")\n",
        "print(total)"
      ],
      "metadata": {
        "colab": {
          "base_uri": "https://localhost:8080/"
        },
        "id": "pfN_Ous3ifc-",
        "outputId": "8f581d71-32a4-497a-c51c-fbdff40e35fe"
      },
      "execution_count": 8,
      "outputs": [
        {
          "output_type": "stream",
          "name": "stdout",
          "text": [
            "Number of images in 'dataset/train/Bad Quality_Fruits': 4751\n",
            "Number of images in 'dataset/train/Good Quality_Fruits': 8164\n",
            "Number of images in 'dataset/train/Mixed Qualit_Fruits': 751\n",
            "Number of images in 'dataset/test/Bad Quality_Fruits': 1019\n",
            "Number of images in 'dataset/test/Good Quality_Fruits': 1750\n",
            "Number of images in 'dataset/test/Mixed Qualit_Fruits': 162\n",
            "Number of images in 'dataset/val/Bad Quality_Fruits': 1018\n",
            "Number of images in 'dataset/val/Good Quality_Fruits': 1750\n",
            "Number of images in 'dataset/val/Mixed Qualit_Fruits': 161\n",
            "19526\n"
          ]
        }
      ]
    },
    {
      "cell_type": "markdown",
      "source": [
        "# **Data Preparation**"
      ],
      "metadata": {
        "id": "EWcCMZhKWdiq"
      }
    },
    {
      "cell_type": "code",
      "source": [
        "import os\n",
        "import numpy as np\n",
        "import tensorflow as tf\n",
        "from tensorflow import keras\n",
        "from tensorflow.keras.preprocessing.image import ImageDataGenerator\n",
        "from tensorflow.keras.models import Sequential\n",
        "from tensorflow.keras.layers import Conv2D, MaxPooling2D, Flatten, Dense, Dropout\n",
        "from tensorflow.keras.optimizers import Adam"
      ],
      "metadata": {
        "id": "uvii8NzwWgPk"
      },
      "execution_count": 9,
      "outputs": []
    },
    {
      "cell_type": "code",
      "source": [
        "base_dir = \"dataset\"\n",
        "\n",
        "train_dir=os.path.join(base_dir,'train')\n",
        "val_dir=os.path.join(base_dir,'val')\n",
        "test_dir=os.path.join(base_dir,'test')\n",
        "\n",
        "IMG_HEIGHT=256\n",
        "IMG_WIDTH=256\n",
        "BATCH_SIZE=32\n",
        "\n",
        "train_datagen=ImageDataGenerator(\n",
        "    rescale=1./256,\n",
        "    rotation_range=20,\n",
        "    width_shift_range=0.2,\n",
        "    height_shift_range=0.2,\n",
        "    shear_range=0.2,\n",
        "    zoom_range=0.2,\n",
        "    horizontal_flip=True,\n",
        "    fill_mode='nearest'\n",
        ")\n",
        "\n",
        "val_datagen=ImageDataGenerator(rescale=1./256)\n",
        "test_datagen=ImageDataGenerator(rescale=1./256)\n",
        "\n",
        "train_generator=train_datagen.flow_from_directory(\n",
        "    train_dir,\n",
        "    target_size=(IMG_HEIGHT,IMG_WIDTH),\n",
        "    batch_size=BATCH_SIZE,\n",
        "    class_mode='categorical'\n",
        ")\n",
        "val_generator=val_datagen.flow_from_directory(\n",
        "    val_dir,\n",
        "    target_size=(IMG_HEIGHT,IMG_WIDTH),\n",
        "    batch_size=BATCH_SIZE,\n",
        "    class_mode='categorical'\n",
        ")\n",
        "test_generator=test_datagen.flow_from_directory(\n",
        "    test_dir,\n",
        "    target_size=(IMG_HEIGHT,IMG_WIDTH),\n",
        "    batch_size=BATCH_SIZE,\n",
        "    class_mode='categorical'\n",
        ")\n",
        "\n",
        "class_labels = list(train_generator.class_indices.keys())\n",
        "print(f\"Class Labels: {class_labels}\")"
      ],
      "metadata": {
        "colab": {
          "base_uri": "https://localhost:8080/"
        },
        "id": "em7Mes6XYClx",
        "outputId": "c2462898-2cdc-41d8-fcd1-d25f5d6ea2bf"
      },
      "execution_count": 14,
      "outputs": [
        {
          "output_type": "stream",
          "name": "stdout",
          "text": [
            "Found 13666 images belonging to 3 classes.\n",
            "Found 2929 images belonging to 3 classes.\n",
            "Found 2931 images belonging to 3 classes.\n",
            "Class Labels: ['Bad Quality_Fruits', 'Good Quality_Fruits', 'Mixed Qualit_Fruits']\n"
          ]
        }
      ]
    },
    {
      "cell_type": "markdown",
      "source": [
        "# **CNN Model**"
      ],
      "metadata": {
        "id": "xZX4MulMcHRo"
      }
    },
    {
      "cell_type": "code",
      "source": [],
      "metadata": {
        "id": "2fpUcEqycLQm"
      },
      "execution_count": null,
      "outputs": []
    }
  ]
}